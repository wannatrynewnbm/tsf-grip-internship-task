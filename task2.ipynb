{
  "nbformat": 4,
  "nbformat_minor": 0,
  "metadata": {
    "colab": {
      "name": "task2.ipynb",
      "provenance": [],
      "collapsed_sections": [],
      "authorship_tag": "ABX9TyMvSGJKEfVgpjDoKpEwb/8Q",
      "include_colab_link": true
    },
    "kernelspec": {
      "name": "python3",
      "display_name": "Python 3"
    }
  },
  "cells": [
    {
      "cell_type": "markdown",
      "metadata": {
        "id": "view-in-github",
        "colab_type": "text"
      },
      "source": [
        "<a href=\"https://colab.research.google.com/github/wannatrynewnbm/tsf-grip-internship-task/blob/main/task2.ipynb\" target=\"_parent\"><img src=\"https://colab.research.google.com/assets/colab-badge.svg\" alt=\"Open In Colab\"/></a>"
      ]
    },
    {
      "cell_type": "markdown",
      "metadata": {
        "id": "ASyUQRO7wsQ0"
      },
      "source": [
        "**TSF - GRIP**\n",
        "\n",
        "**DATA SCIENCE AND BUSINESS ANALYTICS INTERNSHIP**\n",
        "\n",
        "**Done by: NAYANA BM**\n",
        "\n",
        "**Task 2 : Prediction Using Unsupervised ML (K Means Clustering)**\n",
        "\n",
        "From the given ‘Iris’ dataset, predict the optimum number of clusters and represent it visually.\n",
        "\n",
        "Iris Dataset: https://bit.ly/3kXTdox"
      ]
    },
    {
      "cell_type": "code",
      "metadata": {
        "id": "mI3emLlBxIcO"
      },
      "source": [
        "#Importing the libraries\n",
        "import pandas as pd\n",
        "import numpy as np\n",
        "import matplotlib.pyplot as plt\n",
        "from sklearn import datasets"
      ],
      "execution_count": null,
      "outputs": []
    },
    {
      "cell_type": "code",
      "metadata": {
        "id": "MgCouPMp0lJl"
      },
      "source": [
        "#Loading iris dataset\n",
        "iris=datasets.load_iris()\n",
        "df=pd.DataFrame(iris.data,columns=iris.feature_names)"
      ],
      "execution_count": null,
      "outputs": []
    },
    {
      "cell_type": "code",
      "metadata": {
        "colab": {
          "base_uri": "https://localhost:8080/",
          "height": 204
        },
        "id": "R7eCU5YG1BH3",
        "outputId": "b17f701d-632d-4ca6-e0a5-c5efe7e6367f"
      },
      "source": [
        "\n",
        "#First 5 row entries of the dataset\n",
        "df.head()"
      ],
      "execution_count": null,
      "outputs": [
        {
          "output_type": "execute_result",
          "data": {
            "text/html": [
              "<div>\n",
              "<style scoped>\n",
              "    .dataframe tbody tr th:only-of-type {\n",
              "        vertical-align: middle;\n",
              "    }\n",
              "\n",
              "    .dataframe tbody tr th {\n",
              "        vertical-align: top;\n",
              "    }\n",
              "\n",
              "    .dataframe thead th {\n",
              "        text-align: right;\n",
              "    }\n",
              "</style>\n",
              "<table border=\"1\" class=\"dataframe\">\n",
              "  <thead>\n",
              "    <tr style=\"text-align: right;\">\n",
              "      <th></th>\n",
              "      <th>sepal length (cm)</th>\n",
              "      <th>sepal width (cm)</th>\n",
              "      <th>petal length (cm)</th>\n",
              "      <th>petal width (cm)</th>\n",
              "    </tr>\n",
              "  </thead>\n",
              "  <tbody>\n",
              "    <tr>\n",
              "      <th>0</th>\n",
              "      <td>5.1</td>\n",
              "      <td>3.5</td>\n",
              "      <td>1.4</td>\n",
              "      <td>0.2</td>\n",
              "    </tr>\n",
              "    <tr>\n",
              "      <th>1</th>\n",
              "      <td>4.9</td>\n",
              "      <td>3.0</td>\n",
              "      <td>1.4</td>\n",
              "      <td>0.2</td>\n",
              "    </tr>\n",
              "    <tr>\n",
              "      <th>2</th>\n",
              "      <td>4.7</td>\n",
              "      <td>3.2</td>\n",
              "      <td>1.3</td>\n",
              "      <td>0.2</td>\n",
              "    </tr>\n",
              "    <tr>\n",
              "      <th>3</th>\n",
              "      <td>4.6</td>\n",
              "      <td>3.1</td>\n",
              "      <td>1.5</td>\n",
              "      <td>0.2</td>\n",
              "    </tr>\n",
              "    <tr>\n",
              "      <th>4</th>\n",
              "      <td>5.0</td>\n",
              "      <td>3.6</td>\n",
              "      <td>1.4</td>\n",
              "      <td>0.2</td>\n",
              "    </tr>\n",
              "  </tbody>\n",
              "</table>\n",
              "</div>"
            ],
            "text/plain": [
              "   sepal length (cm)  sepal width (cm)  petal length (cm)  petal width (cm)\n",
              "0                5.1               3.5                1.4               0.2\n",
              "1                4.9               3.0                1.4               0.2\n",
              "2                4.7               3.2                1.3               0.2\n",
              "3                4.6               3.1                1.5               0.2\n",
              "4                5.0               3.6                1.4               0.2"
            ]
          },
          "metadata": {
            "tags": []
          },
          "execution_count": 5
        }
      ]
    },
    {
      "cell_type": "markdown",
      "metadata": {
        "id": "ckB8qiEJ7-mk"
      },
      "source": [
        "**Clustering**\n",
        "\n",
        "It attempts to identify a relationship between n-observations( data points) without being trained by the response variable.\n",
        "\n",
        "\n",
        "**K-means algorithm**\n",
        " \n",
        "It identifies k number of centroids, and allocates every data point to the nearest cluster, while keeping the centroids as small as possible.The ‘means’ in the K-means refers to finding the centroid."
      ]
    },
    {
      "cell_type": "code",
      "metadata": {
        "id": "CKAXdYty18rF"
      },
      "source": [
        "# To find the optimum number of clusters for k-means classification\n",
        "from sklearn.cluster import KMeans\n",
        "wss =[] \n",
        "X=df.iloc[:,0:4].values\n",
        "for i in range(1, 11): \n",
        "    KM = KMeans(n_clusters = i,init = 'k-means++',max_iter = 500, n_init=10 ,random_state=0) \n",
        "    KM.fit(X) \n",
        "      \n",
        "    wss.append(KM.inertia_)"
      ],
      "execution_count": null,
      "outputs": []
    },
    {
      "cell_type": "markdown",
      "metadata": {
        "id": "-1yOcdyh82Oh"
      },
      "source": [
        "**Elbow Method**\n",
        "\n",
        "It calculate the Within-Cluster-Sum of Squared Errors (WSS) for different values of k, and choose the k for which WSS becomes first starts to diminish. In the plot of WSS-versus-k, this is visible as an elbow."
      ]
    },
    {
      "cell_type": "code",
      "metadata": {
        "colab": {
          "base_uri": "https://localhost:8080/",
          "height": 295
        },
        "id": "-PDe3jRe2MXd",
        "outputId": "8f06d4e9-5a2a-48a8-f74b-559c9c62d943"
      },
      "source": [
        "#Determine optimal k with a line graph\n",
        "plt.plot(range(1, 11), wss)\n",
        "plt.title('Elbow method to find optimal value of k')\n",
        "plt.xlabel('No. of clusters')\n",
        "plt.ylabel('Within cluster sum of squares') \n",
        "plt.show()"
      ],
      "execution_count": null,
      "outputs": [
        {
          "output_type": "display_data",
          "data": {
            "image/png": "[encoded data removed]",
            "text/plain": [
              "<Figure size 432x288 with 1 Axes>"
            ]
          },
          "metadata": {
            "tags": [],
            "needs_background": "light"
          }
        }
      ]
    },
    {
      "cell_type": "code",
      "metadata": {
        "id": "gfpbl-Oo4vNf"
      },
      "source": [
        "#Applying k means to the dataset & Creating the k means classifier\n",
        "KM = KMeans(n_clusters = 3,init = 'k-means++',max_iter = 500, n_init=10 ,random_state=0) \n",
        "y_KM=KM.fit_predict(X)"
      ],
      "execution_count": null,
      "outputs": []
    },
    {
      "cell_type": "code",
      "metadata": {
        "colab": {
          "base_uri": "https://localhost:8080/",
          "height": 282
        },
        "id": "KJgP8MB71Uze",
        "outputId": "051d7bae-c7b3-4a44-85d9-7fd90c5bf463"
      },
      "source": [
        "# To plot the centroids of the clusters\n",
        "plt.scatter(KM.cluster_centers_[:, 0], KM.cluster_centers_[:,1], \n",
        "            s = 100, c = 'green', label = 'Centroids')\n",
        "\n",
        "plt.legend()"
      ],
      "execution_count": null,
      "outputs": [
        {
          "output_type": "execute_result",
          "data": {
            "text/plain": [
              "<matplotlib.legend.Legend at 0x7f43479d8128>"
            ]
          },
          "metadata": {
            "tags": []
          },
          "execution_count": 10
        },
        {
          "output_type": "display_data",
          "data": {
            "image/png": "[encoded data removed]",
            "text/plain": [
              "<Figure size 432x288 with 1 Axes>"
            ]
          },
          "metadata": {
            "tags": [],
            "needs_background": "light"
          }
        }
      ]
    },
    {
      "cell_type": "code",
      "metadata": {
        "colab": {
          "base_uri": "https://localhost:8080/",
          "height": 285
        },
        "id": "eV2630Jo5IWg",
        "outputId": "0ce8571f-7273-4b05-c7f0-05877e7a73de"
      },
      "source": [
        "#Visualising the clusters \n",
        "\n",
        "plt.scatter(X[y_KM == 0, 0], X[y_KM == 0, 1], \n",
        "            s = 50, c = 'red', label = 'Iris-setosa')\n",
        "plt.scatter(X[y_KM == 1, 0], X[y_KM == 1, 1], \n",
        "            s = 50, c = 'orange', label = 'Iris-versicolour')\n",
        "plt.scatter(X[y_KM == 2, 0], X[y_KM == 2, 1],\n",
        "            s = 50, c = 'black', label = 'Iris-virginica')\n",
        "\n",
        "# Plotting the centroids of the clusters\n",
        "\n",
        "plt.scatter(KM.cluster_centers_[:, 0], KM.cluster_centers_[:,1], \n",
        "            s = 100, c = 'green', label = 'Centroids')\n",
        "\n",
        "plt.legend(loc=\"best\",bbox_to_anchor=(0.5, 0.5,0.95,0.5))"
      ],
      "execution_count": null,
      "outputs": [
        {
          "output_type": "execute_result",
          "data": {
            "text/plain": [
              "<matplotlib.legend.Legend at 0x7f4347fb09e8>"
            ]
          },
          "metadata": {
            "tags": []
          },
          "execution_count": 12
        },
        {
          "output_type": "display_data",
          "data": {
            "image/png": "[encoded data removed]",
            "text/plain": [
              "<Figure size 432x288 with 1 Axes>"
            ]
          },
          "metadata": {
            "tags": [],
            "needs_background": "light"
          }
        }
      ]
    }
  ]
}